{
  "nbformat": 4,
  "nbformat_minor": 0,
  "metadata": {
    "colab": {
      "provenance": [],
      "gpuType": "T4",
      "authorship_tag": "ABX9TyPF2VOa532gCZewQ9/nN3tK",
      "include_colab_link": true
    },
    "kernelspec": {
      "name": "python3",
      "display_name": "Python 3"
    },
    "language_info": {
      "name": "python"
    },
    "accelerator": "GPU"
  },
  "cells": [
    {
      "cell_type": "markdown",
      "metadata": {
        "id": "view-in-github",
        "colab_type": "text"
      },
      "source": [
        "<a href=\"https://colab.research.google.com/github/TirendazAcademy/Hugging-Face-Tutorials/blob/main/ChatBot-Zephyr-3B.ipynb\" target=\"_parent\"><img src=\"https://colab.research.google.com/assets/colab-badge.svg\" alt=\"Open In Colab\"/></a>"
      ]
    },
    {
      "cell_type": "code",
      "execution_count": null,
      "metadata": {
        "id": "Cv59NsQGJBhI"
      },
      "outputs": [],
      "source": [
        "!pip install -q -U gradio transformers accelerate"
      ]
    },
    {
      "cell_type": "code",
      "source": [
        "from transformers import AutoTokenizer"
      ],
      "metadata": {
        "id": "NIbVuTXTK-la"
      },
      "execution_count": 2,
      "outputs": []
    },
    {
      "cell_type": "code",
      "source": [
        "tokenizer = AutoTokenizer.from_pretrained(\n",
        "    'stabilityai/stablelm-zephyr-3b')"
      ],
      "metadata": {
        "id": "45bCJIoRLWG5"
      },
      "execution_count": null,
      "outputs": []
    },
    {
      "cell_type": "code",
      "source": [
        "from transformers import AutoModelForCausalLM"
      ],
      "metadata": {
        "id": "ABAcUUfzLhYx"
      },
      "execution_count": 5,
      "outputs": []
    },
    {
      "cell_type": "code",
      "source": [
        "model = AutoModelForCausalLM.from_pretrained(\n",
        "    'stabilityai/stablelm-zephyr-3b',\n",
        "    trust_remote_code=True,\n",
        "    device_map=\"auto\")"
      ],
      "metadata": {
        "id": "SqNTCmLHLimh"
      },
      "execution_count": null,
      "outputs": []
    },
    {
      "cell_type": "code",
      "source": [
        "import torch\n",
        "\n",
        "device = \"cuda\" if torch.cuda.is_available() else \"cpu\"\n",
        "\n",
        "model.to(device)"
      ],
      "metadata": {
        "id": "Mz-lgLLaLua6"
      },
      "execution_count": null,
      "outputs": []
    },
    {
      "cell_type": "code",
      "source": [
        "class ChatBot:\n",
        "  def __init__(self):\n",
        "    self.history = []\n",
        "  def predict(self, user_input,\n",
        "              system_prompt=\"You are an expert analyst and provide assessment:\"):\n",
        "    prompt = [{'role': 'user', 'content': user_input + \"\\n\" + system_prompt + \":\"}]\n",
        "    inputs = tokenizer.apply_chat_template(\n",
        "        prompt,\n",
        "        add_generation_prompt=True,\n",
        "        return_tensors='pt',\n",
        "    )\n",
        "    tokens = model.generate(\n",
        "        inputs.to(model.device),\n",
        "        max_new_tokens=250,\n",
        "        temperature=0.8,\n",
        "        do_sample=False\n",
        "    )\n",
        "    response_text = tokenizer.decode(\n",
        "        tokens[0],\n",
        "        skip_special_tokens=False)\n",
        "    del tokens\n",
        "    torch.cuda.empty_cache()\n",
        "    return response_text"
      ],
      "metadata": {
        "id": "usfsRtlQL5No"
      },
      "execution_count": 10,
      "outputs": []
    },
    {
      "cell_type": "code",
      "source": [
        "bot = ChatBot()"
      ],
      "metadata": {
        "id": "s9udSw1eMi_B"
      },
      "execution_count": 11,
      "outputs": []
    },
    {
      "cell_type": "code",
      "source": [
        "import gradio as gr"
      ],
      "metadata": {
        "id": "wZpZTPOfM2IZ"
      },
      "execution_count": 12,
      "outputs": []
    },
    {
      "cell_type": "code",
      "source": [
        "examples = [[\"What is the dropout technique in machine learning?\", \"I want you to act as a machine learning engineer. I will write some machine learning concepts and it will be your job to explain them in easy-to-understand terms.\"]]\n",
        "\n",
        "iface = gr.Interface(\n",
        "    fn=bot.predict,\n",
        "    title=\"An App with Zephyr-3b\",\n",
        "    examples=examples,\n",
        "    inputs=[\"text\", \"text\"],\n",
        "    outputs=\"text\",\n",
        ")\n",
        "\n",
        "iface.launch()"
      ],
      "metadata": {
        "colab": {
          "base_uri": "https://localhost:8080/",
          "height": 647
        },
        "id": "c22WxmJeM4Ga",
        "outputId": "8bac6cf1-e0b2-4648-8f6c-54a84cd6a182"
      },
      "execution_count": 15,
      "outputs": [
        {
          "output_type": "stream",
          "name": "stdout",
          "text": [
            "Setting queue=True in a Colab notebook requires sharing enabled. Setting `share=True` (you can turn this off by setting `share=False` in `launch()` explicitly).\n",
            "\n",
            "Colab notebook detected. To show errors in colab notebook, set debug=True in launch()\n",
            "Running on public URL: https://1a9dabbbbe37f02636.gradio.live\n",
            "\n",
            "This share link expires in 72 hours. For free permanent hosting and GPU upgrades, run `gradio deploy` from Terminal to deploy to Spaces (https://huggingface.co/spaces)\n"
          ]
        },
        {
          "output_type": "display_data",
          "data": {
            "text/plain": [
              "<IPython.core.display.HTML object>"
            ],
            "text/html": [
              "<div><iframe src=\"https://1a9dabbbbe37f02636.gradio.live\" width=\"100%\" height=\"500\" allow=\"autoplay; camera; microphone; clipboard-read; clipboard-write;\" frameborder=\"0\" allowfullscreen></iframe></div>"
            ]
          },
          "metadata": {}
        },
        {
          "output_type": "execute_result",
          "data": {
            "text/plain": []
          },
          "metadata": {},
          "execution_count": 15
        }
      ]
    }
  ]
}